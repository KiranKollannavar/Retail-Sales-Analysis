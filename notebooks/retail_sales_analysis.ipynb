{
 "cells": [
  {
   "cell_type": "markdown",
   "id": "c739d8a6",
   "metadata": {},
   "source": [
    "# Retail Sales Analysis"
   ]
  },
  {
   "cell_type": "code",
   "execution_count": null,
   "id": "88caeba6",
   "metadata": {},
   "outputs": [],
   "source": [
    "import pandas as pd\n",
    "from pathlib import Path\n",
    "DATA_PATH = Path('../data/retail_sales.csv')\n",
    "df = pd.read_csv(DATA_PATH, parse_dates=['Date'])\n",
    "df.head()"
   ]
  },
  {
   "cell_type": "code",
   "execution_count": null,
   "id": "8340b0c5",
   "metadata": {},
   "outputs": [],
   "source": [
    "df.drop_duplicates(inplace=True)\n",
    "df['Date'] = pd.to_datetime(df['Date'])\n",
    "df['Year'] = df['Date'].dt.year\n",
    "df['Month'] = df['Date'].dt.month\n",
    "df['Month_Year'] = df['Date'].dt.to_period('M').astype(str)\n",
    "df['Sales_per_Unit'] = df['Sales'] / df['Quantity']\n",
    "df.info()"
   ]
  },
  {
   "cell_type": "code",
   "execution_count": null,
   "id": "e2e4d9a1",
   "metadata": {},
   "outputs": [],
   "source": [
    "import matplotlib.pyplot as plt\n",
    "# Monthly sales trend\n",
    "monthly_sales = df.groupby('Month_Year')['Sales'].sum()\n",
    "monthly_sales.plot(kind='line', figsize=(10,4), title='Monthly Sales Trend')"
   ]
  },
  {
   "cell_type": "code",
   "execution_count": null,
   "id": "8802a3a3",
   "metadata": {},
   "outputs": [],
   "source": [
    "# Top 5 products by sales\n",
    "df.groupby('Product')['Sales'].sum().sort_values(ascending=False).head(5)"
   ]
  },
  {
   "cell_type": "code",
   "execution_count": null,
   "id": "261fa2c1",
   "metadata": {},
   "outputs": [],
   "source": [
    "# Save cleaned dataset\n",
    "df.to_csv('../retail_sales_cleaned.csv', index=False)"
   ]
  }
 ],
 "metadata": {},
 "nbformat": 4,
 "nbformat_minor": 5
}
